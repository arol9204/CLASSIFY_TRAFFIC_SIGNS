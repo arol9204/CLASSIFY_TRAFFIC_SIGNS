{
  "cells": [
    {
      "cell_type": "markdown",
      "metadata": {
        "id": "view-in-github",
        "colab_type": "text"
      },
      "source": [
        "<a href=\"https://colab.research.google.com/github/arol9204/arol9204/blob/main/Hello_AlexNet_Traffic_signs_1_1.ipynb\" target=\"_parent\"><img src=\"https://colab.research.google.com/assets/colab-badge.svg\" alt=\"Open In Colab\"/></a>"
      ]
    },
    {
      "cell_type": "markdown",
      "source": [
        "# Future Mobility CHallenge\n",
        "## Deep Learning and Computer Vision for Autonomous Vehicles (Avs)"
      ],
      "metadata": {
        "id": "EwN7RdvMiL4v"
      }
    },
    {
      "cell_type": "markdown",
      "metadata": {
        "id": "XZmSutaFjnl0"
      },
      "source": [
        "# CODE TO CLASSIFY TRAFFIC SIGNS"
      ]
    },
    {
      "cell_type": "markdown",
      "metadata": {
        "id": "4cO7ZZoKjnl1"
      },
      "source": [
        "Citation\n",
        "\n",
        "J. Stallkamp, M. Schlipsing, J. Salmen, and C. Igel. The German Traffic Sign Recognition Benchmark: A multi-class classification competition. In Proceedings of the IEEE International Joint Conference on Neural Networks, pages 1453–1460. 2011. \n",
        "\n",
        "@inproceedings{Stallkamp-IJCNN-2011,\n",
        "    author = {Johannes Stallkamp and Marc Schlipsing and Jan Salmen and Christian Igel},\n",
        "    booktitle = {IEEE International Joint Conference on Neural Networks},\n",
        "    title = {The {G}erman {T}raffic {S}ign {R}ecognition {B}enchmark: A multi-class classification competition},\n",
        "    year = {2011},\n",
        "    pages = {1453--1460}\n",
        "}\n",
        "\n"
      ]
    },
    {
      "cell_type": "markdown",
      "metadata": {
        "id": "CHOvHn__jnl1"
      },
      "source": [
        "- ( 0, b'Speed limit (20km/h)') ( 1, b'Speed limit (30km/h)')\n",
        "- ( 2, b'Speed limit (50km/h)') ( 3, b'Speed limit (60km/h)')\n",
        "- ( 4, b'Speed limit (70km/h)') ( 5, b'Speed limit (80km/h)')\n",
        "- ( 6, b'End of speed limit (80km/h)') ( 7, b'Speed limit (100km/h)')\n",
        "- ( 8, b'Speed limit (120km/h)') ( 9, b'No passing')\n",
        "- (10, b'No passing for vehicles over 3.5 metric tons')\n",
        "- (11, b'Right-of-way at the next intersection') (12, b'Priority road')\n",
        "- (13, b'Yield') (14, b'Stop') (15, b'No vehicles')\n",
        "- (16, b'Vehicles over 3.5 metric tons prohibited') (17, b'No entry')\n",
        "- (18, b'General caution') (19, b'Dangerous curve to the left')\n",
        "- (20, b'Dangerous curve to the right') (21, b'Double curve')\n",
        "- (22, b'Bumpy road') (23, b'Slippery road')\n",
        "- (24, b'Road narrows on the right') (25, b'Road work')\n",
        "- (26, b'Traffic signals') (27, b'Pedestrians') (28, b'Children crossing')\n",
        "- (29, b'Bicycles crossing') (30, b'Beware of ice/snow')\n",
        "- (31, b'Wild animals crossing')\n",
        "- (32, b'End of all speed and passing limits') (33, b'Turn right ahead')\n",
        "- (34, b'Turn left ahead') (35, b'Ahead only') (36, b'Go straight or right')\n",
        "- (37, b'Go straight or left') (38, b'Keep right') (39, b'Keep left')\n",
        "- (40, b'Roundabout mandatory') (41, b'End of no passing')\n",
        "- (42, b'End of no passing by vehicles over 3.5 metric tons')\n"
      ]
    },
    {
      "cell_type": "markdown",
      "source": [
        "## 1. Research AlexNet Convolutional Neural Network, draw the network architecture, and indicate the use of each of the layers such as convolution/feature extraction, max pooling, and flattening layers."
      ],
      "metadata": {
        "id": "s27w8M5UigiB"
      }
    },
    {
      "cell_type": "code",
      "execution_count": 2,
      "metadata": {
        "id": "UHzwTXI9jnl2"
      },
      "outputs": [],
      "source": [
        "import warnings\n",
        "warnings.filterwarnings(\"ignore\")"
      ]
    },
    {
      "cell_type": "code",
      "execution_count": 3,
      "metadata": {
        "id": "6ZEKVcTejnl3"
      },
      "outputs": [],
      "source": [
        "# import libraries \n",
        "import pickle\n",
        "import tensorflow as tf\n",
        "import pandas as pd # Import Pandas for data manipulation using dataframes\n",
        "import numpy as np # Import Numpy for data statistical analysis \n",
        "import matplotlib.pyplot as plt # Import matplotlib for data visualisation\n",
        "import random"
      ]
    },
    {
      "cell_type": "code",
      "execution_count": 4,
      "metadata": {
        "colab": {
          "base_uri": "https://localhost:8080/"
        },
        "id": "RA3KsgD_8v2e",
        "outputId": "993a396e-6a34-45aa-b624-9d889c5e14af"
      },
      "outputs": [
        {
          "output_type": "stream",
          "name": "stdout",
          "text": [
            "Mounted at /content/drive\n"
          ]
        }
      ],
      "source": [
        "from google.colab import drive\n",
        "drive.mount('/content/drive')"
      ]
    },
    {
      "cell_type": "code",
      "execution_count": 5,
      "metadata": {
        "id": "v4nHVmba68C3"
      },
      "outputs": [],
      "source": [
        "\n",
        "with open(\"/content/drive/MyDrive/traffic-signs-data/train.p\", mode='rb') as training_data:\n",
        "    train = pickle.load(training_data)\n",
        "with open(\"/content/drive/MyDrive/traffic-signs-data/valid.p\", mode='rb') as validation_data:\n",
        "    valid = pickle.load(validation_data)\n",
        "with open(\"/content/drive/MyDrive/traffic-signs-data/test.p\", mode='rb') as testing_data:\n",
        "    test = pickle.load(testing_data)"
      ]
    },
    {
      "cell_type": "code",
      "execution_count": 6,
      "metadata": {
        "id": "L22zjZ4Qjnl3"
      },
      "outputs": [],
      "source": [
        "X_train, y_train = train['features'], train['labels']\n",
        "X_validation, y_validation = valid['features'], valid['labels']\n",
        "X_test, y_test = test['features'], test['labels']\n"
      ]
    },
    {
      "cell_type": "code",
      "execution_count": 7,
      "metadata": {
        "colab": {
          "base_uri": "https://localhost:8080/"
        },
        "id": "gz3fCWn9jnl3",
        "outputId": "6de83572-13ad-4ebc-de93-a6dc6d70bc4b"
      },
      "outputs": [
        {
          "output_type": "execute_result",
          "data": {
            "text/plain": [
              "(34799, 32, 32, 3)"
            ]
          },
          "metadata": {},
          "execution_count": 7
        }
      ],
      "source": [
        "X_train.shape"
      ]
    },
    {
      "cell_type": "code",
      "execution_count": 8,
      "metadata": {
        "colab": {
          "base_uri": "https://localhost:8080/"
        },
        "id": "BajbWAxsjnl3",
        "outputId": "fe776eba-d697-45b2-9500-0fefd4f4e751"
      },
      "outputs": [
        {
          "output_type": "execute_result",
          "data": {
            "text/plain": [
              "(34799,)"
            ]
          },
          "metadata": {},
          "execution_count": 8
        }
      ],
      "source": [
        "y_train.shape"
      ]
    },
    {
      "cell_type": "markdown",
      "metadata": {
        "id": "jSKOOuJIjnl4"
      },
      "source": [
        "## 2. Visualize a sample image from each class in the dataset. Display the corresponding label and perform a sanity check."
      ]
    },
    {
      "cell_type": "code",
      "execution_count": 9,
      "metadata": {
        "colab": {
          "base_uri": "https://localhost:8080/",
          "height": 283
        },
        "id": "2Krswydijnl4",
        "outputId": "d3d53b98-6c38-4c2e-aba8-b69417677b6d"
      },
      "outputs": [
        {
          "output_type": "execute_result",
          "data": {
            "text/plain": [
              "36"
            ]
          },
          "metadata": {},
          "execution_count": 9
        },
        {
          "output_type": "display_data",
          "data": {
            "text/plain": [
              "<Figure size 432x288 with 1 Axes>"
            ],
            "image/png": "[encoded data removed]"
          },
          "metadata": {
            "needs_background": "light"
          }
        }
      ],
      "source": [
        "i = 1001\n",
        "plt.imshow(X_train[i]) # Show images are not shuffled\n",
        "y_train[i]"
      ]
    },
    {
      "cell_type": "markdown",
      "metadata": {
        "id": "o-E7T35zjnl4"
      },
      "source": [
        "# DATA PEPARATION"
      ]
    },
    {
      "cell_type": "code",
      "execution_count": 10,
      "metadata": {
        "id": "LXXmZ204jnl4"
      },
      "outputs": [],
      "source": [
        "## Shuffle the dataset \n",
        "from sklearn.utils import shuffle\n",
        "X_train, y_train = shuffle(X_train, y_train)\n"
      ]
    },
    {
      "cell_type": "code",
      "execution_count": 11,
      "metadata": {
        "id": "so0ACFVkjnl4"
      },
      "outputs": [],
      "source": [
        "X_train_gray = np.sum(X_train/3, axis=3, keepdims=True)\n",
        "X_test_gray  = np.sum(X_test/3, axis=3, keepdims=True)\n",
        "X_validation_gray  = np.sum(X_validation/3, axis=3, keepdims=True) "
      ]
    },
    {
      "cell_type": "code",
      "execution_count": 12,
      "metadata": {
        "id": "sMhkfRc_jnl4"
      },
      "outputs": [],
      "source": [
        "X_train_gray_norm = (X_train_gray - 128)/128 \n",
        "X_test_gray_norm = (X_test_gray - 128)/128\n",
        "X_validation_gray_norm = (X_validation_gray - 128)/128\n"
      ]
    },
    {
      "cell_type": "code",
      "execution_count": 13,
      "metadata": {
        "colab": {
          "base_uri": "https://localhost:8080/"
        },
        "id": "nG-NyH2Ajnl4",
        "outputId": "c60159b2-56e7-4b10-e564-bb5c5f45afff"
      },
      "outputs": [
        {
          "output_type": "execute_result",
          "data": {
            "text/plain": [
              "(34799, 32, 32, 1)"
            ]
          },
          "metadata": {},
          "execution_count": 13
        }
      ],
      "source": [
        "X_train_gray.shape"
      ]
    },
    {
      "cell_type": "code",
      "execution_count": 14,
      "metadata": {
        "colab": {
          "base_uri": "https://localhost:8080/",
          "height": 532
        },
        "id": "-e6MhwJ6jnl5",
        "outputId": "522559c8-f5a8-49ef-bb16-709513bd2bfc"
      },
      "outputs": [
        {
          "output_type": "execute_result",
          "data": {
            "text/plain": [
              "<matplotlib.image.AxesImage at 0x7fddffb94af0>"
            ]
          },
          "metadata": {},
          "execution_count": 14
        },
        {
          "output_type": "display_data",
          "data": {
            "text/plain": [
              "<Figure size 432x288 with 1 Axes>"
            ],
            "image/png": "[encoded data removed]"
          },
          "metadata": {
            "needs_background": "light"
          }
        },
        {
          "output_type": "display_data",
          "data": {
            "text/plain": [
              "<Figure size 432x288 with 1 Axes>"
            ],
            "image/png": "[encoded data removed]"
          },
          "metadata": {
            "needs_background": "light"
          }
        }
      ],
      "source": [
        "i = 610\n",
        "plt.imshow(X_train_gray[i].squeeze(), cmap='gray')\n",
        "plt.figure()\n",
        "plt.imshow(X_train[i])\n"
      ]
    },
    {
      "cell_type": "markdown",
      "metadata": {
        "id": "MzJOPMOhjnl5"
      },
      "source": [
        "# MODEL TRAINING"
      ]
    },
    {
      "cell_type": "code",
      "execution_count": 15,
      "metadata": {
        "id": "IeJ3jTH-jnl5"
      },
      "outputs": [],
      "source": [
        "# Import train_test_split from scikit library\n",
        "# Import Keras\n",
        "# import keras\n",
        "from tensorflow.keras.models import Sequential\n",
        "from tensorflow.keras.layers import Conv2D, MaxPooling2D, Dense, Flatten, Dropout, MaxPool2D\n",
        "from tensorflow.keras.optimizers import Adam\n",
        "from tensorflow.keras.callbacks import TensorBoard\n",
        "\n",
        "# from subprocess import check_output\n",
        "from sklearn.model_selection import train_test_split\n"
      ]
    },
    {
      "cell_type": "code",
      "execution_count": 16,
      "metadata": {
        "id": "rNcq9EYTjnl5"
      },
      "outputs": [],
      "source": [
        "image_shape = X_train_gray[i].shape"
      ]
    },
    {
      "cell_type": "code",
      "execution_count": 17,
      "metadata": {
        "colab": {
          "base_uri": "https://localhost:8080/"
        },
        "id": "KgavXOTmjnl5",
        "outputId": "c1b21024-0333-4d9b-845b-31abf2871cd5"
      },
      "outputs": [
        {
          "output_type": "execute_result",
          "data": {
            "text/plain": [
              "(32, 32, 1)"
            ]
          },
          "metadata": {},
          "execution_count": 17
        }
      ],
      "source": [
        "X_train_gray[i].shape"
      ]
    },
    {
      "cell_type": "code",
      "execution_count": 18,
      "metadata": {
        "id": "Nb2uIDL5jnl5"
      },
      "outputs": [],
      "source": [
        "cnn_model = Sequential()\n",
        "cnn_model.add(Conv2D(32,3, 3, input_shape = image_shape, activation='relu'))\n",
        "cnn_model.add(MaxPooling2D(pool_size = (2, 2)))\n",
        "cnn_model.add(Flatten())\n",
        "cnn_model.add(Dense(32, activation = 'relu'))\n",
        "cnn_model.add(Dense(43, activation = 'sigmoid'))\n"
      ]
    },
    {
      "cell_type": "code",
      "execution_count": 19,
      "metadata": {
        "id": "RLjwEmbjjnl5"
      },
      "outputs": [],
      "source": [
        "cnn_model.compile(loss ='sparse_categorical_crossentropy',\n",
        "                  optimizer=Adam(lr=0.001),\n",
        "                  metrics =['accuracy'])"
      ]
    },
    {
      "cell_type": "code",
      "execution_count": null,
      "metadata": {
        "colab": {
          "base_uri": "https://localhost:8080/"
        },
        "id": "TNbHm-jkjnl5",
        "outputId": "7cfde118-d58c-4d9d-b5e7-ee749b11eda4"
      },
      "outputs": [
        {
          "output_type": "stream",
          "name": "stdout",
          "text": [
            "Epoch 1/50\n",
            "70/70 [==============================] - 5s 48ms/step - loss: 3.4415 - accuracy: 0.1112 - val_loss: 3.3631 - val_accuracy: 0.1442\n",
            "Epoch 2/50\n",
            "70/70 [==============================] - 2s 34ms/step - loss: 2.9572 - accuracy: 0.2467 - val_loss: 2.9555 - val_accuracy: 0.2444\n",
            "Epoch 3/50\n",
            "70/70 [==============================] - 2s 35ms/step - loss: 2.3916 - accuracy: 0.3815 - val_loss: 2.4916 - val_accuracy: 0.3474\n",
            "Epoch 4/50\n",
            "70/70 [==============================] - 4s 54ms/step - loss: 1.9608 - accuracy: 0.4770 - val_loss: 2.1612 - val_accuracy: 0.4102\n",
            "Epoch 5/50\n",
            "70/70 [==============================] - 3s 43ms/step - loss: 1.6689 - accuracy: 0.5458 - val_loss: 1.9562 - val_accuracy: 0.4712\n",
            "Epoch 6/50\n",
            "70/70 [==============================] - 2s 34ms/step - loss: 1.4657 - accuracy: 0.5968 - val_loss: 1.7940 - val_accuracy: 0.5032\n",
            "Epoch 7/50\n",
            "70/70 [==============================] - 2s 35ms/step - loss: 1.3116 - accuracy: 0.6399 - val_loss: 1.6619 - val_accuracy: 0.5268\n",
            "Epoch 8/50\n",
            "70/70 [==============================] - 2s 34ms/step - loss: 1.1956 - accuracy: 0.6718 - val_loss: 1.5700 - val_accuracy: 0.5444\n",
            "Epoch 9/50\n",
            "70/70 [==============================] - 3s 46ms/step - loss: 1.1068 - accuracy: 0.6916 - val_loss: 1.4806 - val_accuracy: 0.5821\n",
            "Epoch 10/50\n",
            "70/70 [==============================] - 4s 54ms/step - loss: 1.0258 - accuracy: 0.7145 - val_loss: 1.4261 - val_accuracy: 0.6186\n",
            "Epoch 11/50\n",
            "70/70 [==============================] - 2s 35ms/step - loss: 0.9672 - accuracy: 0.7330 - val_loss: 1.3571 - val_accuracy: 0.6075\n",
            "Epoch 12/50\n",
            "70/70 [==============================] - 3s 37ms/step - loss: 0.9111 - accuracy: 0.7482 - val_loss: 1.3450 - val_accuracy: 0.6048\n",
            "Epoch 13/50\n",
            "70/70 [==============================] - 2s 35ms/step - loss: 0.8653 - accuracy: 0.7625 - val_loss: 1.3486 - val_accuracy: 0.6181\n",
            "Epoch 14/50\n",
            "70/70 [==============================] - 3s 39ms/step - loss: 0.8260 - accuracy: 0.7719 - val_loss: 1.2612 - val_accuracy: 0.6531\n",
            "Epoch 15/50\n",
            "70/70 [==============================] - 4s 59ms/step - loss: 0.7912 - accuracy: 0.7834 - val_loss: 1.2571 - val_accuracy: 0.6558\n",
            "Epoch 16/50\n",
            "70/70 [==============================] - 2s 34ms/step - loss: 0.7604 - accuracy: 0.7910 - val_loss: 1.2343 - val_accuracy: 0.6662\n",
            "Epoch 17/50\n",
            "70/70 [==============================] - 2s 35ms/step - loss: 0.7352 - accuracy: 0.7983 - val_loss: 1.2047 - val_accuracy: 0.6676\n",
            "Epoch 18/50\n",
            "70/70 [==============================] - 2s 35ms/step - loss: 0.7112 - accuracy: 0.8018 - val_loss: 1.2242 - val_accuracy: 0.6651\n",
            "Epoch 19/50\n",
            "70/70 [==============================] - 2s 35ms/step - loss: 0.6891 - accuracy: 0.8091 - val_loss: 1.2167 - val_accuracy: 0.6669\n",
            "Epoch 20/50\n",
            "70/70 [==============================] - 4s 59ms/step - loss: 0.6672 - accuracy: 0.8153 - val_loss: 1.2101 - val_accuracy: 0.6626\n",
            "Epoch 21/50\n",
            "70/70 [==============================] - 3s 42ms/step - loss: 0.6495 - accuracy: 0.8200 - val_loss: 1.1652 - val_accuracy: 0.6952\n",
            "Epoch 22/50\n",
            "70/70 [==============================] - 2s 35ms/step - loss: 0.6271 - accuracy: 0.8273 - val_loss: 1.1622 - val_accuracy: 0.6893\n",
            "Epoch 23/50\n",
            "70/70 [==============================] - 2s 35ms/step - loss: 0.6101 - accuracy: 0.8315 - val_loss: 1.1568 - val_accuracy: 0.6918\n",
            "Epoch 24/50\n",
            "70/70 [==============================] - 2s 36ms/step - loss: 0.5940 - accuracy: 0.8378 - val_loss: 1.1817 - val_accuracy: 0.6946\n",
            "Epoch 25/50\n",
            "70/70 [==============================] - 4s 56ms/step - loss: 0.5853 - accuracy: 0.8371 - val_loss: 1.1627 - val_accuracy: 0.6991\n",
            "Epoch 26/50\n",
            "70/70 [==============================] - 5s 67ms/step - loss: 0.5638 - accuracy: 0.8448 - val_loss: 1.1200 - val_accuracy: 0.7166\n",
            "Epoch 27/50\n",
            "70/70 [==============================] - 3s 44ms/step - loss: 0.5523 - accuracy: 0.8516 - val_loss: 1.1211 - val_accuracy: 0.7104\n",
            "Epoch 28/50\n",
            "70/70 [==============================] - 2s 34ms/step - loss: 0.5429 - accuracy: 0.8518 - val_loss: 1.1565 - val_accuracy: 0.6848\n",
            "Epoch 29/50\n",
            "70/70 [==============================] - 2s 35ms/step - loss: 0.5278 - accuracy: 0.8567 - val_loss: 1.1081 - val_accuracy: 0.7134\n",
            "Epoch 30/50\n",
            "70/70 [==============================] - 3s 37ms/step - loss: 0.5185 - accuracy: 0.8594 - val_loss: 1.1125 - val_accuracy: 0.7113\n",
            "Epoch 31/50\n",
            "70/70 [==============================] - 4s 60ms/step - loss: 0.5135 - accuracy: 0.8562 - val_loss: 1.1263 - val_accuracy: 0.7073\n",
            "Epoch 32/50\n",
            "70/70 [==============================] - 3s 36ms/step - loss: 0.4966 - accuracy: 0.8647 - val_loss: 1.0809 - val_accuracy: 0.7347\n",
            "Epoch 33/50\n",
            "70/70 [==============================] - 2s 35ms/step - loss: 0.4858 - accuracy: 0.8673 - val_loss: 1.1011 - val_accuracy: 0.7118\n",
            "Epoch 34/50\n",
            "70/70 [==============================] - 2s 35ms/step - loss: 0.4772 - accuracy: 0.8714 - val_loss: 1.1249 - val_accuracy: 0.7052\n",
            "Epoch 35/50\n",
            "70/70 [==============================] - 2s 36ms/step - loss: 0.4688 - accuracy: 0.8732 - val_loss: 1.1066 - val_accuracy: 0.6973\n",
            "Epoch 36/50\n",
            "70/70 [==============================] - 4s 58ms/step - loss: 0.4678 - accuracy: 0.8706 - val_loss: 1.1020 - val_accuracy: 0.7186\n",
            "Epoch 37/50\n",
            "70/70 [==============================] - 3s 43ms/step - loss: 0.4543 - accuracy: 0.8770 - val_loss: 1.1058 - val_accuracy: 0.7145\n",
            "Epoch 38/50\n",
            "70/70 [==============================] - 2s 36ms/step - loss: 0.4476 - accuracy: 0.8789 - val_loss: 1.0908 - val_accuracy: 0.7311\n",
            "Epoch 39/50\n",
            "70/70 [==============================] - 2s 35ms/step - loss: 0.4391 - accuracy: 0.8808 - val_loss: 1.1138 - val_accuracy: 0.7109\n",
            "Epoch 40/50\n",
            "70/70 [==============================] - 3s 36ms/step - loss: 0.4320 - accuracy: 0.8827 - val_loss: 1.0695 - val_accuracy: 0.7265\n",
            "Epoch 41/50\n",
            "70/70 [==============================] - 4s 52ms/step - loss: 0.4236 - accuracy: 0.8854 - val_loss: 1.0645 - val_accuracy: 0.7420\n",
            "Epoch 42/50\n",
            "70/70 [==============================] - 3s 48ms/step - loss: 0.4180 - accuracy: 0.8870 - val_loss: 1.0664 - val_accuracy: 0.7422\n",
            "Epoch 43/50\n",
            "70/70 [==============================] - 2s 35ms/step - loss: 0.4103 - accuracy: 0.8900 - val_loss: 1.0529 - val_accuracy: 0.7408\n",
            "Epoch 44/50\n",
            "70/70 [==============================] - 3s 36ms/step - loss: 0.4014 - accuracy: 0.8921 - val_loss: 1.0680 - val_accuracy: 0.7485\n",
            "Epoch 45/50\n",
            "70/70 [==============================] - 2s 35ms/step - loss: 0.3959 - accuracy: 0.8938 - val_loss: 1.0806 - val_accuracy: 0.7279\n",
            "Epoch 46/50\n",
            "70/70 [==============================] - 3s 47ms/step - loss: 0.3939 - accuracy: 0.8931 - val_loss: 1.0471 - val_accuracy: 0.7385\n",
            "Epoch 47/50\n",
            "70/70 [==============================] - 4s 53ms/step - loss: 0.3875 - accuracy: 0.8959 - val_loss: 1.0615 - val_accuracy: 0.7497\n",
            "Epoch 48/50\n",
            "70/70 [==============================] - 2s 35ms/step - loss: 0.3789 - accuracy: 0.8992 - val_loss: 1.1121 - val_accuracy: 0.7361\n",
            "Epoch 49/50\n",
            "70/70 [==============================] - 2s 35ms/step - loss: 0.3718 - accuracy: 0.9020 - val_loss: 1.0654 - val_accuracy: 0.7515\n",
            "Epoch 50/50\n",
            "70/70 [==============================] - 2s 35ms/step - loss: 0.3691 - accuracy: 0.9026 - val_loss: 1.0507 - val_accuracy: 0.7569\n"
          ]
        }
      ],
      "source": [
        "import time\n",
        "\n",
        "start_time = time.time()\n",
        "\n",
        "history = cnn_model.fit(X_train_gray_norm,\n",
        "                        y_train,\n",
        "                        batch_size=500,\n",
        "                        epochs=50,\n",
        "                        verbose=1,\n",
        "                        validation_data = (X_validation_gray_norm,y_validation))\n",
        "\n",
        "elapsed_time = time.time() - start_time\n",
        "\n",
        "print(elapsed_time)"
      ]
    },
    {
      "cell_type": "code",
      "execution_count": null,
      "metadata": {
        "colab": {
          "base_uri": "https://localhost:8080/"
        },
        "id": "I6xWcP_Jjnl6",
        "outputId": "d513e302-0c9c-43ad-a6af-41e4d3fae98c"
      },
      "outputs": [
        {
          "output_type": "stream",
          "name": "stdout",
          "text": [
            "Test Accuracy : 0.7480\n"
          ]
        }
      ],
      "source": [
        "score = cnn_model.evaluate(X_test_gray_norm, y_test,verbose=0)\n",
        "print('Test Accuracy : {:.4f}'.format(score[1]))"
      ]
    },
    {
      "cell_type": "code",
      "execution_count": null,
      "metadata": {
        "colab": {
          "base_uri": "https://localhost:8080/",
          "height": 545
        },
        "id": "8aUakJtbjnl6",
        "outputId": "23be8da5-37af-4a51-9bf7-8bc0db7ac88b"
      },
      "outputs": [
        {
          "output_type": "display_data",
          "data": {
            "text/plain": [
              "<Figure size 432x288 with 1 Axes>"
            ],
            "image/png": "[encoded data removed]"
          },
          "metadata": {
            "needs_background": "light"
          }
        },
        {
          "output_type": "display_data",
          "data": {
            "text/plain": [
              "<Figure size 432x288 with 1 Axes>"
            ],
            "image/png": "[encoded data removed]"
          },
          "metadata": {
            "needs_background": "light"
          }
        }
      ],
      "source": [
        "import matplotlib.pyplot as plt\n",
        "%matplotlib inline\n",
        "accuracy = history.history['accuracy']\n",
        "val_accuracy = history.history['val_accuracy']\n",
        "loss = history.history['loss']\n",
        "val_loss = history.history['val_loss']\n",
        "epochs = range(len(accuracy))\n",
        "plt.plot(epochs, accuracy, 'bo', label='Training Accuracy')\n",
        "plt.plot(epochs, val_accuracy, 'b', label='Validation Accuracy')\n",
        "plt.title('Training and Validation accuracy')\n",
        "plt.legend()\n",
        "plt.figure()\n",
        "plt.plot(epochs, loss, 'bo', label='Training Loss')\n",
        "plt.plot(epochs, val_loss, 'b', label='Validation Loss')\n",
        "plt.title('Training and validation loss')\n",
        "plt.legend()\n",
        "plt.show()"
      ]
    },
    {
      "cell_type": "code",
      "execution_count": null,
      "metadata": {
        "colab": {
          "base_uri": "https://localhost:8080/"
        },
        "id": "cn1RuPE4jnl6",
        "outputId": "fbccd27c-3bc6-4a28-e417-20f378aa1781"
      },
      "outputs": [
        {
          "output_type": "stream",
          "name": "stdout",
          "text": [
            "395/395 [==============================] - 1s 2ms/step\n"
          ]
        }
      ],
      "source": [
        "#get the predictions for the test data\n",
        "predict_x = cnn_model.predict(X_test_gray_norm)\n",
        "predicted_classes = np.argmax(predict_x, axis=1)\n",
        "\n",
        "#get the indices to be plotted\n",
        "y_true = y_test\n"
      ]
    },
    {
      "cell_type": "code",
      "execution_count": null,
      "metadata": {
        "colab": {
          "base_uri": "https://localhost:8080/"
        },
        "id": "7w0k-TyTjnl6",
        "outputId": "97ced1ad-b2e5-40bd-cebc-90ea479d568d"
      },
      "outputs": [
        {
          "output_type": "execute_result",
          "data": {
            "text/plain": [
              "array([[ 17,  25,   4, ...,   0,   0,   0],\n",
              "       [114, 482,  55, ...,   4,   0,   0],\n",
              "       [ 93, 108, 473, ...,   4,   0,   0],\n",
              "       ...,\n",
              "       [ 15,   3,  15, ...,  30,   0,   0],\n",
              "       [  0,   0,   1, ...,   0,  10,   0],\n",
              "       [  0,   0,   0, ...,   0,  21,  43]])"
            ]
          },
          "metadata": {},
          "execution_count": 23
        }
      ],
      "source": [
        "from sklearn.metrics import confusion_matrix\n",
        "cm = confusion_matrix(y_true, predicted_classes)\n",
        "cm"
      ]
    },
    {
      "cell_type": "code",
      "execution_count": null,
      "metadata": {
        "colab": {
          "base_uri": "https://localhost:8080/",
          "height": 297
        },
        "id": "XoYUkQ0Djnl6",
        "outputId": "586d721d-42c1-474b-9d6c-0df31baab5ed",
        "scrolled": true
      },
      "outputs": [
        {
          "output_type": "display_data",
          "data": {
            "text/plain": [
              "<Figure size 432x288 with 12 Axes>"
            ],
            "image/png": "[encoded data removed]"
          },
          "metadata": {
            "needs_background": "light"
          }
        }
      ],
      "source": [
        "for i in range(0,12):\n",
        "    plt.subplot(4,3,i+1)\n",
        "    plt.imshow(X_test_gray_norm[i+10].squeeze(), cmap='gray', interpolation='none')\n",
        "    plt.title(\"Predicted {}, Class {}\".format(predicted_classes[i+10], y_true[i+10]))\n",
        "    plt.tight_layout()"
      ]
    },
    {
      "cell_type": "markdown",
      "source": [
        "## 3. Train a CNN based on AlexNet to classify traffic signs. Train the model using 15 epochs and plot the network accuracy vs. the number of epochs.  "
      ],
      "metadata": {
        "id": "IzVRZkmci94y"
      }
    },
    {
      "cell_type": "markdown",
      "source": [
        "### AlexNet Model"
      ],
      "metadata": {
        "id": "9c7hHfXrfIR8"
      }
    },
    {
      "cell_type": "code",
      "source": [
        "\n",
        "alexnet = Sequential()\n",
        "\n",
        "alexnet.add(Conv2D(96, (11,11), strides=4, activation='relu', input_shape=image_shape))\n",
        "alexnet.add(MaxPooling2D(pool_size=3, strides=2, padding = 'same'))\n",
        "\n",
        "alexnet.add(Conv2D(256, (5,5), padding='same', activation='relu'))\n",
        "alexnet.add(MaxPooling2D(pool_size=3, strides=2, padding = 'same'))\n",
        "\n",
        "alexnet.add(Conv2D(384, (3,3), padding='same', activation='relu'))\n",
        "alexnet.add(Conv2D(384, (3,3), padding='same', activation='relu'))\n",
        "alexnet.add(Conv2D(256, (3,3), padding='same', activation='relu'))\n",
        "alexnet.add(MaxPooling2D(pool_size=3, strides=2, padding = 'same'))\n",
        "\n",
        "alexnet.add(Flatten())\n",
        "alexnet.add(Dense(4096, activation='relu'))\n",
        "alexnet.add(Dropout(0.5))\n",
        "\n",
        "alexnet.add(Dense(4096, activation='relu'))\n",
        "alexnet.add(Dropout(0.5))\n",
        "alexnet.add(Dense(43, activation='softmax'))"
      ],
      "metadata": {
        "id": "2fDegeR9e-Sd"
      },
      "execution_count": 37,
      "outputs": []
    },
    {
      "cell_type": "code",
      "source": [
        "alexnet.summary()"
      ],
      "metadata": {
        "id": "NdtO8mp0e-FK",
        "colab": {
          "base_uri": "https://localhost:8080/"
        },
        "outputId": "756de6bd-7dc2-4651-9f50-1231fc59bd67"
      },
      "execution_count": 38,
      "outputs": [
        {
          "output_type": "stream",
          "name": "stdout",
          "text": [
            "Model: \"sequential_16\"\n",
            "_________________________________________________________________\n",
            " Layer (type)                Output Shape              Param #   \n",
            "=================================================================\n",
            " conv2d_55 (Conv2D)          (None, 6, 6, 96)          11712     \n",
            "                                                                 \n",
            " max_pooling2d_39 (MaxPoolin  (None, 3, 3, 96)         0         \n",
            " g2D)                                                            \n",
            "                                                                 \n",
            " conv2d_56 (Conv2D)          (None, 3, 3, 256)         614656    \n",
            "                                                                 \n",
            " max_pooling2d_40 (MaxPoolin  (None, 2, 2, 256)        0         \n",
            " g2D)                                                            \n",
            "                                                                 \n",
            " conv2d_57 (Conv2D)          (None, 2, 2, 384)         885120    \n",
            "                                                                 \n",
            " conv2d_58 (Conv2D)          (None, 2, 2, 384)         1327488   \n",
            "                                                                 \n",
            " conv2d_59 (Conv2D)          (None, 2, 2, 256)         884992    \n",
            "                                                                 \n",
            " max_pooling2d_41 (MaxPoolin  (None, 1, 1, 256)        0         \n",
            " g2D)                                                            \n",
            "                                                                 \n",
            " flatten_3 (Flatten)         (None, 256)               0         \n",
            "                                                                 \n",
            " dense_8 (Dense)             (None, 4096)              1052672   \n",
            "                                                                 \n",
            " dropout_4 (Dropout)         (None, 4096)              0         \n",
            "                                                                 \n",
            " dense_9 (Dense)             (None, 4096)              16781312  \n",
            "                                                                 \n",
            " dropout_5 (Dropout)         (None, 4096)              0         \n",
            "                                                                 \n",
            " dense_10 (Dense)            (None, 43)                176171    \n",
            "                                                                 \n",
            "=================================================================\n",
            "Total params: 21,734,123\n",
            "Trainable params: 21,734,123\n",
            "Non-trainable params: 0\n",
            "_________________________________________________________________\n"
          ]
        }
      ]
    },
    {
      "cell_type": "code",
      "source": [
        "alexnet.compile(loss ='sparse_categorical_crossentropy',\n",
        "              optimizer=Adam(lr=0.001),\n",
        "              metrics =['accuracy'])"
      ],
      "metadata": {
        "id": "waeiUOpDe98k"
      },
      "execution_count": 39,
      "outputs": []
    },
    {
      "cell_type": "code",
      "source": [
        "start_time = time.time()\n",
        "\n",
        "history1 = alexnet.fit(X_train_gray_norm, y_train,\n",
        "          batch_size=128,\n",
        "          epochs=15,\n",
        "          verbose=1,\n",
        "          validation_data=(X_validation_gray_norm, y_validation),\n",
        "          shuffle=True)\n",
        "\n",
        "elapsed_time = time.time() - start_time\n",
        "\n",
        "print(elapsed_time)"
      ],
      "metadata": {
        "id": "72rnLfR5e9zL",
        "colab": {
          "base_uri": "https://localhost:8080/"
        },
        "outputId": "5fbeecf8-899c-4701-9049-15a60df672e7"
      },
      "execution_count": null,
      "outputs": [
        {
          "output_type": "stream",
          "name": "stdout",
          "text": [
            "Epoch 1/15\n",
            "272/272 [==============================] - 421s 2s/step - loss: 2.8850 - accuracy: 0.1498 - val_loss: 2.5153 - val_accuracy: 0.2637\n",
            "Epoch 2/15\n",
            "272/272 [==============================] - 417s 2s/step - loss: 1.8909 - accuracy: 0.3881 - val_loss: 1.8142 - val_accuracy: 0.4349\n",
            "Epoch 3/15\n",
            "272/272 [==============================] - 426s 2s/step - loss: 1.2688 - accuracy: 0.5739 - val_loss: 1.3690 - val_accuracy: 0.5841\n",
            "Epoch 4/15\n",
            "272/272 [==============================] - 420s 2s/step - loss: 0.9067 - accuracy: 0.6955 - val_loss: 1.2049 - val_accuracy: 0.6417\n",
            "Epoch 5/15\n",
            "272/272 [==============================] - 439s 2s/step - loss: 0.6593 - accuracy: 0.7814 - val_loss: 1.2068 - val_accuracy: 0.6889\n",
            "Epoch 6/15\n",
            " 62/272 [=====>........................] - ETA: 5:23 - loss: 0.5498 - accuracy: 0.8160"
          ]
        }
      ]
    },
    {
      "cell_type": "code",
      "source": [],
      "metadata": {
        "id": "_3egh8p4e9ro"
      },
      "execution_count": null,
      "outputs": []
    },
    {
      "cell_type": "markdown",
      "source": [
        "## 4. Test the trained CNN and evaluate its performance on the testing (holdout) dataset. Note that the testing dataset has never been seen by the model during training.  "
      ],
      "metadata": {
        "id": "qby3lXQRjI1l"
      }
    },
    {
      "cell_type": "code",
      "source": [
        "# Evaluating the model using the testing dataset\n",
        "score = alexnet.evaluate(X_test_gray_norm, y_test,verbose=0)\n",
        "print('Test Accuracy : {:.4f}'.format(score[1]))"
      ],
      "metadata": {
        "id": "MtPvgpROe9gc"
      },
      "execution_count": null,
      "outputs": []
    },
    {
      "cell_type": "code",
      "source": [
        "## "
      ],
      "metadata": {
        "id": "We249iR7fHmF"
      },
      "execution_count": null,
      "outputs": []
    },
    {
      "cell_type": "markdown",
      "source": [
        "## 5. Fine-tune the trained model by training it on additional datasets. Feel free to collect data from the internet or using a mobile device"
      ],
      "metadata": {
        "id": "BcPp-_hFk4t8"
      }
    },
    {
      "cell_type": "code",
      "source": [],
      "metadata": {
        "id": "v59Y86jefHa_"
      },
      "execution_count": null,
      "outputs": []
    },
    {
      "cell_type": "code",
      "source": [],
      "metadata": {
        "id": "euT2guO9fHT2"
      },
      "execution_count": null,
      "outputs": []
    },
    {
      "cell_type": "markdown",
      "source": [
        "## 6. Explore 3 different ways to improve the network accuracy such as increasing the number of epochs, adding additional convolutional/max-pooling layers, or adding dropout layers. Retrain the network and display the results. Any reasonable answer should be sufficient."
      ],
      "metadata": {
        "id": "3tPBr_YBlEal"
      }
    },
    {
      "cell_type": "code",
      "source": [],
      "metadata": {
        "id": "W7ruwB1gfHIr"
      },
      "execution_count": null,
      "outputs": []
    },
    {
      "cell_type": "code",
      "source": [],
      "metadata": {
        "id": "ZsU_YqAAfHFS"
      },
      "execution_count": null,
      "outputs": []
    },
    {
      "cell_type": "code",
      "source": [],
      "metadata": {
        "id": "n2YecRsse9Ns"
      },
      "execution_count": null,
      "outputs": []
    },
    {
      "cell_type": "markdown",
      "metadata": {
        "id": "sJpn-qILjnl6"
      },
      "source": [
        "## 7. Build 3 different deep convolutional neural networks with various architectures. Feel free to choose the number of layers, number of kernels (feature detectors), number of dense (Fully-connected) layers, number of neurons in the dense layer, activation functions, regularization such as dropout, etc. Retrain the network and plot the results."
      ]
    },
    {
      "cell_type": "markdown",
      "source": [
        "### GoogLeNet"
      ],
      "metadata": {
        "id": "OB3cnLhUD6pq"
      }
    },
    {
      "cell_type": "code",
      "source": [],
      "metadata": {
        "id": "sLvbh7vnD21I"
      },
      "execution_count": null,
      "outputs": []
    },
    {
      "cell_type": "code",
      "source": [],
      "metadata": {
        "id": "o963JmU2D9wo"
      },
      "execution_count": null,
      "outputs": []
    },
    {
      "cell_type": "code",
      "source": [],
      "metadata": {
        "id": "-4SHlRtSD9ku"
      },
      "execution_count": null,
      "outputs": []
    },
    {
      "cell_type": "code",
      "source": [],
      "metadata": {
        "id": "eTJbv7ViEPBR"
      },
      "execution_count": null,
      "outputs": []
    },
    {
      "cell_type": "markdown",
      "source": [
        "### ResNet"
      ],
      "metadata": {
        "id": "MDRIEz2ZEPZ_"
      }
    },
    {
      "cell_type": "code",
      "source": [],
      "metadata": {
        "id": "qXgm_Wg3ERHd"
      },
      "execution_count": null,
      "outputs": []
    },
    {
      "cell_type": "code",
      "source": [],
      "metadata": {
        "id": "jjptGg6nERb0"
      },
      "execution_count": null,
      "outputs": []
    },
    {
      "cell_type": "code",
      "source": [],
      "metadata": {
        "id": "NCzC-QnRER0I"
      },
      "execution_count": null,
      "outputs": []
    },
    {
      "cell_type": "code",
      "source": [],
      "metadata": {
        "id": "hfl1mAWoESMD"
      },
      "execution_count": null,
      "outputs": []
    },
    {
      "cell_type": "markdown",
      "source": [
        "### Other architectural structure"
      ],
      "metadata": {
        "id": "T0V0kcdID-X4"
      }
    },
    {
      "cell_type": "code",
      "execution_count": null,
      "metadata": {
        "id": "FdfXoUpVjnl6"
      },
      "outputs": [],
      "source": [
        "model = Sequential()\n",
        "model.add(Conv2D(32, (3, 3), padding='same', activation='relu', input_shape=image_shape))\n",
        "model.add(Conv2D(32, (3, 3), activation='relu'))\n",
        "model.add(MaxPooling2D(pool_size=(2, 2)))\n",
        "model.add(Dropout(0.25))\n",
        " \n",
        "model.add(Conv2D(64, (3, 3), padding='same', activation='relu'))\n",
        "model.add(Conv2D(64, (3, 3), activation='relu'))\n",
        "model.add(MaxPooling2D(pool_size=(2, 2)))\n",
        "model.add(Dropout(0.25))\n",
        " \n",
        "model.add(Conv2D(64, (3, 3), padding='same', activation='relu'))\n",
        "model.add(Conv2D(64, (3, 3), activation='relu'))\n",
        "model.add(MaxPooling2D(pool_size=(2, 2)))\n",
        "model.add(Dropout(0.25))\n",
        " \n",
        "model.add(Flatten())\n",
        "model.add(Dense(512, activation='relu'))\n",
        "model.add(Dropout(0.5))\n",
        "model.add(Dense(43, activation='softmax'))"
      ]
    },
    {
      "cell_type": "code",
      "source": [
        "# Explore the structure of the NN\n",
        "model.summary()"
      ],
      "metadata": {
        "colab": {
          "base_uri": "https://localhost:8080/"
        },
        "id": "TmqWKO8sh_1R",
        "outputId": "66b3a4eb-f812-4363-e1f3-4895f20e0d95"
      },
      "execution_count": null,
      "outputs": [
        {
          "output_type": "stream",
          "name": "stdout",
          "text": [
            "Model: \"sequential_1\"\n",
            "_________________________________________________________________\n",
            " Layer (type)                Output Shape              Param #   \n",
            "=================================================================\n",
            " conv2d_1 (Conv2D)           (None, 32, 32, 32)        320       \n",
            "                                                                 \n",
            " conv2d_2 (Conv2D)           (None, 30, 30, 32)        9248      \n",
            "                                                                 \n",
            " max_pooling2d_1 (MaxPooling  (None, 15, 15, 32)       0         \n",
            " 2D)                                                             \n",
            "                                                                 \n",
            " dropout (Dropout)           (None, 15, 15, 32)        0         \n",
            "                                                                 \n",
            " conv2d_3 (Conv2D)           (None, 15, 15, 64)        18496     \n",
            "                                                                 \n",
            " conv2d_4 (Conv2D)           (None, 13, 13, 64)        36928     \n",
            "                                                                 \n",
            " max_pooling2d_2 (MaxPooling  (None, 6, 6, 64)         0         \n",
            " 2D)                                                             \n",
            "                                                                 \n",
            " dropout_1 (Dropout)         (None, 6, 6, 64)          0         \n",
            "                                                                 \n",
            " conv2d_5 (Conv2D)           (None, 6, 6, 64)          36928     \n",
            "                                                                 \n",
            " conv2d_6 (Conv2D)           (None, 4, 4, 64)          36928     \n",
            "                                                                 \n",
            " max_pooling2d_3 (MaxPooling  (None, 2, 2, 64)         0         \n",
            " 2D)                                                             \n",
            "                                                                 \n",
            " dropout_2 (Dropout)         (None, 2, 2, 64)          0         \n",
            "                                                                 \n",
            " flatten_1 (Flatten)         (None, 256)               0         \n",
            "                                                                 \n",
            " dense_2 (Dense)             (None, 512)               131584    \n",
            "                                                                 \n",
            " dropout_3 (Dropout)         (None, 512)               0         \n",
            "                                                                 \n",
            " dense_3 (Dense)             (None, 43)                22059     \n",
            "                                                                 \n",
            "=================================================================\n",
            "Total params: 292,491\n",
            "Trainable params: 292,491\n",
            "Non-trainable params: 0\n",
            "_________________________________________________________________\n"
          ]
        }
      ]
    },
    {
      "cell_type": "code",
      "execution_count": null,
      "metadata": {
        "id": "29GhbFWcjnl7"
      },
      "outputs": [],
      "source": [
        "# Compile metrics\n",
        "\n",
        "model.compile(loss ='sparse_categorical_crossentropy',\n",
        "              optimizer=Adam(lr=0.001),\n",
        "              metrics =['accuracy'])"
      ]
    },
    {
      "cell_type": "code",
      "execution_count": null,
      "metadata": {
        "colab": {
          "base_uri": "https://localhost:8080/"
        },
        "id": "UTeWhZM4jnl7",
        "outputId": "92261cc5-2bdf-42b9-b1df-a2c9f59fdfbc"
      },
      "outputs": [
        {
          "output_type": "stream",
          "name": "stdout",
          "text": [
            "Epoch 1/15\n",
            "70/70 [==============================] - 191s 3s/step - loss: 3.4478 - accuracy: 0.0741 - val_loss: 3.3889 - val_accuracy: 0.0959\n",
            "Epoch 2/15\n",
            "70/70 [==============================] - 184s 3s/step - loss: 2.3871 - accuracy: 0.3241 - val_loss: 1.3339 - val_accuracy: 0.5986\n",
            "Epoch 3/15\n",
            "70/70 [==============================] - 178s 3s/step - loss: 0.9963 - accuracy: 0.6813 - val_loss: 0.5962 - val_accuracy: 0.8288\n",
            "Epoch 4/15\n",
            "70/70 [==============================] - 183s 3s/step - loss: 0.5122 - accuracy: 0.8346 - val_loss: 0.3004 - val_accuracy: 0.9070\n",
            "Epoch 5/15\n",
            "70/70 [==============================] - 177s 3s/step - loss: 0.3292 - accuracy: 0.8934 - val_loss: 0.2257 - val_accuracy: 0.9234\n",
            "Epoch 6/15\n",
            "70/70 [==============================] - 179s 3s/step - loss: 0.2357 - accuracy: 0.9247 - val_loss: 0.1558 - val_accuracy: 0.9515\n",
            "Epoch 7/15\n",
            "70/70 [==============================] - 179s 3s/step - loss: 0.1787 - accuracy: 0.9444 - val_loss: 0.1381 - val_accuracy: 0.9522\n",
            "Epoch 8/15\n",
            "70/70 [==============================] - 178s 3s/step - loss: 0.1361 - accuracy: 0.9570 - val_loss: 0.1197 - val_accuracy: 0.9619\n",
            "Epoch 9/15\n",
            "70/70 [==============================] - 179s 3s/step - loss: 0.1151 - accuracy: 0.9633 - val_loss: 0.1123 - val_accuracy: 0.9633\n",
            "Epoch 10/15\n",
            "70/70 [==============================] - 178s 3s/step - loss: 0.0983 - accuracy: 0.9695 - val_loss: 0.1097 - val_accuracy: 0.9664\n",
            "Epoch 11/15\n",
            "70/70 [==============================] - 178s 3s/step - loss: 0.0857 - accuracy: 0.9732 - val_loss: 0.0977 - val_accuracy: 0.9717\n",
            "Epoch 12/15\n",
            "70/70 [==============================] - 177s 3s/step - loss: 0.0714 - accuracy: 0.9771 - val_loss: 0.0842 - val_accuracy: 0.9746\n",
            "Epoch 13/15\n",
            "70/70 [==============================] - 178s 3s/step - loss: 0.0689 - accuracy: 0.9782 - val_loss: 0.0737 - val_accuracy: 0.9787\n",
            "Epoch 14/15\n",
            "70/70 [==============================] - 177s 3s/step - loss: 0.0641 - accuracy: 0.9796 - val_loss: 0.0941 - val_accuracy: 0.9710\n",
            "Epoch 15/15\n",
            "70/70 [==============================] - 178s 3s/step - loss: 0.0535 - accuracy: 0.9825 - val_loss: 0.0767 - val_accuracy: 0.9780\n",
            "2724.5942504405975\n"
          ]
        }
      ],
      "source": [
        "start_time = time.time()\n",
        "\n",
        "history1 = model.fit(X_train_gray_norm, y_train,\n",
        "          batch_size=500,\n",
        "          epochs=15,\n",
        "          verbose=1,\n",
        "          validation_data=(X_validation_gray_norm, y_validation),\n",
        "          shuffle=True)\n",
        "\n",
        "elapsed_time = time.time() - start_time\n",
        "\n",
        "print(elapsed_time)"
      ]
    },
    {
      "cell_type": "code",
      "execution_count": null,
      "metadata": {
        "colab": {
          "base_uri": "https://localhost:8080/"
        },
        "id": "rlzttyn0jnl7",
        "outputId": "d4445fc8-2567-43f5-b6a1-c2ae4f4b11b7"
      },
      "outputs": [
        {
          "output_type": "stream",
          "name": "stdout",
          "text": [
            "Test Accuracy : 0.9641\n"
          ]
        }
      ],
      "source": [
        "score = model.evaluate(X_test_gray_norm, y_test,verbose=0)\n",
        "print('Test Accuracy : {:.4f}'.format(score[1]))"
      ]
    },
    {
      "cell_type": "code",
      "execution_count": null,
      "metadata": {
        "colab": {
          "base_uri": "https://localhost:8080/",
          "height": 545
        },
        "id": "vvGeAm9djnl7",
        "outputId": "6bafa5f3-c84f-4f99-961d-a3989c228efe"
      },
      "outputs": [
        {
          "output_type": "display_data",
          "data": {
            "text/plain": [
              "<Figure size 432x288 with 1 Axes>"
            ],
            "image/png": "[encoded data removed]"
          },
          "metadata": {
            "needs_background": "light"
          }
        },
        {
          "output_type": "display_data",
          "data": {
            "text/plain": [
              "<Figure size 432x288 with 1 Axes>"
            ],
            "image/png": "[encoded data removed]"
          },
          "metadata": {
            "needs_background": "light"
          }
        }
      ],
      "source": [
        "import matplotlib.pyplot as plt\n",
        "%matplotlib inline\n",
        "accuracy = history1.history['accuracy']\n",
        "val_accuracy = history1.history['val_accuracy']\n",
        "loss = history1.history['loss']\n",
        "val_loss = history1.history['val_loss']\n",
        "epochs = range(len(accuracy))\n",
        "plt.plot(epochs, accuracy, 'bo', label='Training Accuracy')\n",
        "plt.plot(epochs, val_accuracy, 'b', label='Validation Accuracy')\n",
        "plt.title('Training and Validation accuracy')\n",
        "plt.legend()\n",
        "plt.figure()\n",
        "plt.plot(epochs, loss, 'bo', label='Training Loss')\n",
        "plt.plot(epochs, val_loss, 'b', label='Validation Loss')\n",
        "plt.title('Training and validation loss')\n",
        "plt.legend()\n",
        "plt.show()"
      ]
    },
    {
      "cell_type": "code",
      "execution_count": null,
      "metadata": {
        "id": "CPv1RKVMjnl7",
        "outputId": "6948c208-2def-4215-c0d8-877f81684115",
        "colab": {
          "base_uri": "https://localhost:8080/"
        }
      },
      "outputs": [
        {
          "output_type": "stream",
          "name": "stdout",
          "text": [
            "395/395 [==============================] - 16s 41ms/step\n"
          ]
        }
      ],
      "source": [
        "# New way:\n",
        "predict_x = model.predict(X_test_gray_norm)\n",
        "predicted_classes = np.argmax(predict_x, axis=1)\n",
        "\n",
        "#get the indices to be plotted\n",
        "y_true = y_test\n"
      ]
    },
    {
      "cell_type": "code",
      "execution_count": null,
      "metadata": {
        "colab": {
          "base_uri": "https://localhost:8080/"
        },
        "id": "a5Y91kN9jnl7",
        "outputId": "b5862d71-0117-4a58-88a5-4d80ccb1b13d"
      },
      "outputs": [
        {
          "output_type": "execute_result",
          "data": {
            "text/plain": [
              "array([[ 51,   0,   0, ...,   0,   0,   0],\n",
              "       [  1, 709,   3, ...,   0,   0,   0],\n",
              "       [  0,   5, 743, ...,   0,   0,   0],\n",
              "       ...,\n",
              "       [  0,   1,   0, ...,  81,   0,   0],\n",
              "       [  0,   0,   0, ...,   0,  36,   0],\n",
              "       [  0,   0,   0, ...,   0,   0,  89]])"
            ]
          },
          "metadata": {},
          "execution_count": 31
        }
      ],
      "source": [
        "from sklearn.metrics import confusion_matrix\n",
        "cm = confusion_matrix(y_true, predicted_classes)\n",
        "cm"
      ]
    },
    {
      "cell_type": "code",
      "execution_count": null,
      "metadata": {
        "colab": {
          "base_uri": "https://localhost:8080/",
          "height": 1000
        },
        "id": "RzsHAdg3jnl8",
        "outputId": "e40f852b-e759-4db0-9265-3fb238316ac1"
      },
      "outputs": [
        {
          "output_type": "execute_result",
          "data": {
            "text/plain": [
              "<matplotlib.axes._subplots.AxesSubplot at 0x7f3aa3c83f10>"
            ]
          },
          "metadata": {},
          "execution_count": 34
        },
        {
          "output_type": "display_data",
          "data": {
            "text/plain": [
              "<Figure size 2160x2160 with 2 Axes>"
            ],
            "image/png": "[encoded data removed]"
          },
          "metadata": {
            "needs_background": "light"
          }
        }
      ],
      "source": [
        "import seaborn as sn\n",
        "cm2 = cm.copy()\n",
        "cm2[cm2 > 100] = -1\n",
        "plt.figure(figsize = (30,30))\n",
        "sn.heatmap(cm2, annot=True)"
      ]
    },
    {
      "cell_type": "markdown",
      "metadata": {
        "id": "tv0WgWJuRJ8H"
      },
      "source": [
        "Create a way to get the number of errors per signal, and those who get the highest error, look for images"
      ]
    },
    {
      "cell_type": "code",
      "execution_count": null,
      "metadata": {
        "id": "RmFoHqA6PD2R"
      },
      "outputs": [],
      "source": [
        "sum_of_rows = np.sum(cm2, axis = 0)"
      ]
    },
    {
      "cell_type": "code",
      "execution_count": null,
      "metadata": {
        "colab": {
          "base_uri": "https://localhost:8080/"
        },
        "id": "BEZ4N5YHQsc-",
        "outputId": "36986c33-75bf-4bee-fec8-d9fe8e6d69af"
      },
      "outputs": [
        {
          "data": {
            "text/plain": [
              "array([ 62, 253, 311, 326, 189, 225,  34, 225, 255, 194, 103, 357,  76,\n",
              "        12, 110,  13,  90,  22, 128,  88,  70,  53, 109, 136, 139,  96,\n",
              "       148,  21, 124,  90,  88, 128,  41,  38, 107,  38,  74,  60,  81,\n",
              "        32,  46,  21,  44])"
            ]
          },
          "execution_count": 69,
          "metadata": {},
          "output_type": "execute_result"
        }
      ],
      "source": [
        "sum_of_rows"
      ]
    },
    {
      "cell_type": "code",
      "execution_count": null,
      "metadata": {
        "id": "hRP9mXW8QtfN"
      },
      "outputs": [],
      "source": []
    },
    {
      "cell_type": "markdown",
      "source": [
        "## 8. Test the trained deep CNNs on brand-new images. This might involve collecting traffic sign data and evaluating the system's performance and make adjustment as necessary"
      ],
      "metadata": {
        "id": "CBrCiTwDlWkx"
      }
    },
    {
      "cell_type": "code",
      "source": [],
      "metadata": {
        "id": "Wph9S1GTlXuK"
      },
      "execution_count": null,
      "outputs": []
    }
  ],
  "metadata": {
    "colab": {
      "provenance": [],
      "include_colab_link": true
    },
    "kernelspec": {
      "display_name": "Python 3 (ipykernel)",
      "language": "python",
      "name": "python3"
    },
    "language_info": {
      "codemirror_mode": {
        "name": "ipython",
        "version": 3
      },
      "file_extension": ".py",
      "mimetype": "text/x-python",
      "name": "python",
      "nbconvert_exporter": "python",
      "pygments_lexer": "ipython3",
      "version": "3.9.15"
    },
    "accelerator": "GPU",
    "gpuClass": "standard"
  },
  "nbformat": 4,
  "nbformat_minor": 0
}